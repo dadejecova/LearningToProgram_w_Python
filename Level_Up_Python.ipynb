{
  "nbformat": 4,
  "nbformat_minor": 0,
  "metadata": {
    "colab": {
      "provenance": [],
      "authorship_tag": "ABX9TyOQKOwBYGXS1OUevjctWxyG"
    },
    "kernelspec": {
      "name": "python3",
      "display_name": "Python 3"
    },
    "language_info": {
      "name": "python"
    }
  },
  "cells": [
    {
      "cell_type": "markdown",
      "source": [
        "## Find prime Factors"
      ],
      "metadata": {
        "id": "RTVXuahe0tYJ"
      }
    },
    {
      "cell_type": "code",
      "source": [
        "def get_prime_factors(number):\n",
        "  factors = []\n",
        "  divisor = 2\n",
        "  while divisor <= number:\n",
        "    if number % divisor == 0:\n",
        "      factors.append(divisor)\n",
        "      number = number // divisor\n",
        "    else:\n",
        "      divisor += 1\n",
        "  return factors"
      ],
      "metadata": {
        "id": "KVsYlMW90xsG"
      },
      "execution_count": 1,
      "outputs": []
    },
    {
      "cell_type": "code",
      "execution_count": 2,
      "metadata": {
        "colab": {
          "base_uri": "https://localhost:8080/"
        },
        "id": "8q0mJLr60pXM",
        "outputId": "fed86622-b949-43e0-8cca-43fc1f207761"
      },
      "outputs": [
        {
          "output_type": "execute_result",
          "data": {
            "text/plain": [
              "[2, 3, 3, 5, 7]"
            ]
          },
          "metadata": {},
          "execution_count": 2
        }
      ],
      "source": [
        "get_prime_factors(630)"
      ]
    },
    {
      "cell_type": "markdown",
      "source": [
        "## Identify Palindrome"
      ],
      "metadata": {
        "id": "cOCLEuCC1XD5"
      }
    },
    {
      "cell_type": "code",
      "source": [
        "import re\n",
        "\n",
        "def is_palindrome(phrase):\n",
        "  forwards = ''.join(re.findall(r'[a-z]+', phrase.lower()))\n",
        "  backwards = forwards[::-1]\n",
        "  return forwards == backwards"
      ],
      "metadata": {
        "id": "elkWmAl61ROE"
      },
      "execution_count": 3,
      "outputs": []
    },
    {
      "cell_type": "code",
      "source": [
        "is_palindrome('aeiouoiea')"
      ],
      "metadata": {
        "colab": {
          "base_uri": "https://localhost:8080/"
        },
        "id": "0X6GSUni2cr8",
        "outputId": "40bcccd4-b27e-4ffa-a353-d88f9dfaef69"
      },
      "execution_count": 5,
      "outputs": [
        {
          "output_type": "execute_result",
          "data": {
            "text/plain": [
              "True"
            ]
          },
          "metadata": {},
          "execution_count": 5
        }
      ]
    },
    {
      "cell_type": "markdown",
      "source": [
        "## Sort a string"
      ],
      "metadata": {
        "id": "sWWYoa7R2_5H"
      }
    },
    {
      "cell_type": "code",
      "source": [
        "def sort_words(words):\n",
        "  return ''.join(sorted(words.split(), key = str.casefold))"
      ],
      "metadata": {
        "id": "EIN9perP2fN2"
      },
      "execution_count": 6,
      "outputs": []
    },
    {
      "cell_type": "code",
      "source": [
        "sort_words('pablito clavo un clavito')"
      ],
      "metadata": {
        "colab": {
          "base_uri": "https://localhost:8080/",
          "height": 38
        },
        "id": "RsY5QZ1S3Knv",
        "outputId": "3142c806-9539-47e4-f66e-ba4a50c4d660"
      },
      "execution_count": 7,
      "outputs": [
        {
          "output_type": "execute_result",
          "data": {
            "text/plain": [
              "'clavitoclavopablitoun'"
            ],
            "application/vnd.google.colaboratory.intrinsic+json": {
              "type": "string"
            }
          },
          "metadata": {},
          "execution_count": 7
        }
      ]
    },
    {
      "cell_type": "markdown",
      "source": [
        "## Find all list items"
      ],
      "metadata": {
        "id": "YcuQqRve3dGU"
      }
    },
    {
      "cell_type": "code",
      "source": [
        "def index_all(search_list, item):\n",
        "  index_list = []\n",
        "  for index, value in enumerate(search_list):\n",
        "    if value == item:\n",
        "      index_list.append([index])\n",
        "    elif isinstance(search_list[index], list):\n",
        "      for i in index_all(search_list[index], item):\n",
        "        index_list.append([index] + i)\n",
        "  return index_list\n"
      ],
      "metadata": {
        "id": "XGUpePxB3Nem"
      },
      "execution_count": 9,
      "outputs": []
    },
    {
      "cell_type": "code",
      "source": [
        "example = [[[1,2,3],2,[1,3]],[1,2,3]]"
      ],
      "metadata": {
        "id": "Aqj5AQMT4Hrx"
      },
      "execution_count": 10,
      "outputs": []
    },
    {
      "cell_type": "code",
      "source": [
        "index_all(example,2)"
      ],
      "metadata": {
        "colab": {
          "base_uri": "https://localhost:8080/"
        },
        "id": "8kz71D6c4iVa",
        "outputId": "f49c7234-d711-4215-94a2-cf3e7d041f8b"
      },
      "execution_count": 11,
      "outputs": [
        {
          "output_type": "execute_result",
          "data": {
            "text/plain": [
              "[[0, 0, 1], [0, 1], [1, 1]]"
            ]
          },
          "metadata": {},
          "execution_count": 11
        }
      ]
    },
    {
      "cell_type": "markdown",
      "source": [
        "## Play the waiting game"
      ],
      "metadata": {
        "id": "HFsyXNVY4vVF"
      }
    },
    {
      "cell_type": "code",
      "source": [
        "import time\n",
        "import random\n",
        "\n",
        "def waiting_game():\n",
        "  target = random.randint(2,4)\n",
        "  print(f'\\nYour target time is {target} seconds')\n",
        "\n",
        "  input(' ---Press Enter to Begin--- ')\n",
        "  start = time.perf_counter()\n",
        "\n",
        "  input(f'\\n... Press Enter again after {target} seconds...')\n",
        "  elapsed =time.perf_counter() - start\n",
        "\n",
        "  print(f'\\nElapsed time: {elapsed:.3f} seconds')\n",
        "  if elapsed == target:\n",
        "    print('(Unbeliable! Perfect Timing!)')\n",
        "  elif elapsed < target:\n",
        "    print(f'({target - elapsed :.3f} seconds too fast)')\n",
        "  else:\n",
        "    print(f'({elapsed - target :.3f} seconds too slow)')"
      ],
      "metadata": {
        "id": "okoGmdVP4ktL"
      },
      "execution_count": 12,
      "outputs": []
    },
    {
      "cell_type": "code",
      "source": [
        "waiting_game()"
      ],
      "metadata": {
        "colab": {
          "base_uri": "https://localhost:8080/"
        },
        "id": "Pf05_Omu50h5",
        "outputId": "84a94643-30e8-46a8-dbf4-57be61717c83"
      },
      "execution_count": 16,
      "outputs": [
        {
          "output_type": "stream",
          "name": "stdout",
          "text": [
            "\n",
            "Your target time is 3 seconds\n",
            " ---Press Enter to Begin--- \n",
            "\n",
            "... Press Enter again after 3 seconds...\n",
            "\n",
            "Elapsed time: 2.889 seconds\n",
            "(0.111 seconds too fast)\n"
          ]
        }
      ]
    },
    {
      "cell_type": "markdown",
      "source": [
        "## Save a dictionary"
      ],
      "metadata": {
        "id": "Hh_LBsCN8gkG"
      }
    },
    {
      "cell_type": "code",
      "source": [
        "import pickle\n",
        "\n",
        "def save_dict(dict_to_save, file_path):\n",
        "  with open(file_path, 'wb') as file:\n",
        "    pickle.dump(dict_to_save, file)\n",
        "\n",
        "def load_dict(file_path):\n",
        "  with open(file_path, 'rb') as file:\n",
        "    return pickle.load(file)"
      ],
      "metadata": {
        "id": "c7zqzB2M59RU"
      },
      "execution_count": 17,
      "outputs": []
    },
    {
      "cell_type": "code",
      "source": [
        "test_dict = {1: 'a', 2:'b', 3:'c'}"
      ],
      "metadata": {
        "id": "6-ozcxeX9QyE"
      },
      "execution_count": 18,
      "outputs": []
    },
    {
      "cell_type": "code",
      "source": [
        "save_dict(test_dict, 'test_dict.pickle')"
      ],
      "metadata": {
        "id": "lSpLJK259ahO"
      },
      "execution_count": 22,
      "outputs": []
    },
    {
      "cell_type": "code",
      "source": [
        "recovered = load_dict('test_dict.pickle')\n",
        "print(recovered)"
      ],
      "metadata": {
        "colab": {
          "base_uri": "https://localhost:8080/"
        },
        "id": "OMmkXvrb9d9G",
        "outputId": "bba7447f-b687-4b8e-d8ab-7a4e98cb3719"
      },
      "execution_count": 23,
      "outputs": [
        {
          "output_type": "stream",
          "name": "stdout",
          "text": [
            "{1: 'a', 2: 'b', 3: 'c'}\n"
          ]
        }
      ]
    },
    {
      "cell_type": "markdown",
      "source": [
        "## Schedule a function"
      ],
      "metadata": {
        "id": "-f7N00fZBjb8"
      }
    },
    {
      "cell_type": "code",
      "source": [
        "import sched\n",
        "import time\n",
        "\n",
        "def schedule_function(event_time, function, *args):\n",
        "  s = sched.scheduler(time.time, time.sleep)\n",
        "  s.enterabs(event_time, 1, function, argument=args)\n",
        "  print(f'{function.__name__}() scheduled for {time.asctime(time.localtime(event_time))}')\n",
        "  s.run()"
      ],
      "metadata": {
        "id": "2S2pUH649xWr"
      },
      "execution_count": 1,
      "outputs": []
    },
    {
      "cell_type": "code",
      "source": [
        "schedule_function(time.time() + 1, print, 'Howdy')"
      ],
      "metadata": {
        "colab": {
          "base_uri": "https://localhost:8080/"
        },
        "id": "Lh7QxGSEB_FI",
        "outputId": "bdf31ac9-6029-4eee-d666-1bad5edddbc8"
      },
      "execution_count": 4,
      "outputs": [
        {
          "output_type": "stream",
          "name": "stdout",
          "text": [
            "print() scheduled for Thu Oct 16 12:43:09 2025\n",
            "Howdy\n"
          ]
        }
      ]
    },
    {
      "cell_type": "markdown",
      "source": [
        "## Simulate Dice"
      ],
      "metadata": {
        "id": "fuE5yFMtESMm"
      }
    },
    {
      "cell_type": "code",
      "source": [
        "from random import randint\n",
        "from collections import Counter\n",
        "\n",
        "def roll_dice(*dice, num_trials = 1_000_000):\n",
        "  counts = Counter()\n",
        "  for _ in range(num_trials):\n",
        "    counts[sum((randint(1, sides) for sides in dice))] += 1\n",
        "\n",
        "  print('\\nOUTCOME\\tPROBABILITY')\n",
        "  for outcome in range(len(dice), sum(dice) +1):\n",
        "    print(f'{outcome}\\t{counts[outcome] * 100 / num_trials :0.2f}%')"
      ],
      "metadata": {
        "id": "h5iojo-yDYsy"
      },
      "execution_count": 8,
      "outputs": []
    },
    {
      "cell_type": "code",
      "source": [
        "roll_dice(4,6,6)"
      ],
      "metadata": {
        "colab": {
          "base_uri": "https://localhost:8080/"
        },
        "id": "WliZGATpEXYP",
        "outputId": "463daa8a-290d-49b5-9d50-ae6b1914641a"
      },
      "execution_count": 10,
      "outputs": [
        {
          "output_type": "stream",
          "name": "stdout",
          "text": [
            "\n",
            "OUTCOME\tPROBABILITY\n",
            "3\t0.69%\n",
            "4\t2.12%\n",
            "5\t4.17%\n",
            "6\t6.91%\n",
            "7\t9.72%\n",
            "8\t12.48%\n",
            "9\t13.85%\n",
            "10\t13.97%\n",
            "11\t12.48%\n",
            "12\t9.76%\n",
            "13\t6.90%\n",
            "14\t4.18%\n",
            "15\t2.08%\n",
            "16\t0.70%\n"
          ]
        }
      ]
    },
    {
      "cell_type": "code",
      "source": [
        "roll_dice(4,6,6,20)"
      ],
      "metadata": {
        "colab": {
          "base_uri": "https://localhost:8080/"
        },
        "id": "0lhSbvsSFHRh",
        "outputId": "09406fa0-c89a-49c7-9408-13dd7ac2ffd4"
      },
      "execution_count": 11,
      "outputs": [
        {
          "output_type": "stream",
          "name": "stdout",
          "text": [
            "\n",
            "OUTCOME\tPROBABILITY\n",
            "4\t0.03%\n",
            "5\t0.15%\n",
            "6\t0.34%\n",
            "7\t0.69%\n",
            "8\t1.20%\n",
            "9\t1.79%\n",
            "10\t2.48%\n",
            "11\t3.19%\n",
            "12\t3.82%\n",
            "13\t4.30%\n",
            "14\t4.67%\n",
            "15\t4.92%\n",
            "16\t4.93%\n",
            "17\t5.01%\n",
            "18\t5.00%\n",
            "19\t5.01%\n",
            "20\t5.01%\n",
            "21\t5.02%\n",
            "22\t5.01%\n",
            "23\t4.98%\n",
            "24\t4.95%\n",
            "25\t4.82%\n",
            "26\t4.66%\n",
            "27\t4.33%\n",
            "28\t3.83%\n",
            "29\t3.17%\n",
            "30\t2.50%\n",
            "31\t1.78%\n",
            "32\t1.18%\n",
            "33\t0.68%\n",
            "34\t0.36%\n",
            "35\t0.14%\n",
            "36\t0.03%\n"
          ]
        }
      ]
    },
    {
      "cell_type": "markdown",
      "source": [
        "## Count Unique Words"
      ],
      "metadata": {
        "id": "_k50GuFoFSpM"
      }
    },
    {
      "cell_type": "code",
      "source": [
        "import re\n",
        "import collections\n",
        "\n",
        "def count_words(path):\n",
        "  with open(path, 'r', encoding='utf-8') as file:\n",
        "    all_words = re.findall(r\"[0-9a-zA-Z-']+\", file.read())\n",
        "    all_words = [word.upper() for word in all_words]\n",
        "    print(f'\\nTotal Words: {len(all_words)}')\n",
        "\n",
        "    word_counts = collections.Counter(all_words)\n",
        "\n",
        "    print('\\nTop 20 Words:')\n",
        "\n",
        "    for word in word_counts.most_common(20):\n",
        "      print(f'{word[0]}\\t{word[1]}')"
      ],
      "metadata": {
        "id": "tV8MRsfWFNm4"
      },
      "execution_count": 13,
      "outputs": []
    },
    {
      "cell_type": "code",
      "source": [
        "count_words('/content/pg100.txt') #I'm using collab, so i need to upload the data, source from https://gutenberg.org/ebooks/100 plaintext format."
      ],
      "metadata": {
        "colab": {
          "base_uri": "https://localhost:8080/"
        },
        "id": "oBPnRgmrGoT8",
        "outputId": "03d1a874-d22c-4e92-ad97-32f3f72335d4"
      },
      "execution_count": 16,
      "outputs": [
        {
          "output_type": "stream",
          "name": "stdout",
          "text": [
            "\n",
            "Total Words: 988445\n",
            "\n",
            "Top 20 Words:\n",
            "THE\t30588\n",
            "AND\t28541\n",
            "I\t24201\n",
            "TO\t21167\n",
            "OF\t18877\n",
            "A\t16397\n",
            "YOU\t14728\n",
            "MY\t13203\n",
            "IN\t12557\n",
            "THAT\t12286\n",
            "IS\t9945\n",
            "NOT\t9093\n",
            "S\t8620\n",
            "WITH\t8569\n",
            "FOR\t8296\n",
            "ME\t8280\n",
            "IT\t8263\n",
            "HIS\t7605\n",
            "HE\t7425\n",
            "BE\t7411\n"
          ]
        }
      ]
    },
    {
      "cell_type": "markdown",
      "source": [
        "## Generate a Password"
      ],
      "metadata": {
        "id": "xz38YKmCI1hL"
      }
    },
    {
      "cell_type": "code",
      "source": [
        "import random\n",
        "import string\n",
        "\n",
        "def generate_password():\n",
        "    length = random.randint(8, 32)\n",
        "    characters = string.ascii_letters + string.digits + string.punctuation\n",
        "    password = ''.join(random.choice(characters) for i in range(length))\n",
        "    return password\n",
        "\n",
        "print(generate_password())"
      ],
      "metadata": {
        "colab": {
          "base_uri": "https://localhost:8080/"
        },
        "id": "eGOjNqbeJPsh",
        "outputId": "cbf42378-bb76-4379-a426-f04510bfd642"
      },
      "execution_count": 17,
      "outputs": [
        {
          "output_type": "stream",
          "name": "stdout",
          "text": [
            "e`zB16%uG)L+!-%~={ze\n"
          ]
        }
      ]
    },
    {
      "cell_type": "code",
      "source": [
        "import secrets\n",
        "\n",
        "def generate_passphrase(num_words, wordlist_path='/content/diceware.wordlist.asc.txt'):\n",
        "  with open(wordlist_path, 'r', encoding='utf-8') as file:\n",
        "    lines = file.readlines()[2:7778]\n",
        "    word_list = [line.split()[1] for line in lines]\n",
        "\n",
        "  words = [secrets.choice(word_list) for i in range(num_words)]\n",
        "  return ' '.join(words)\n"
      ],
      "metadata": {
        "id": "vmJFWoVGKj8k"
      },
      "execution_count": 20,
      "outputs": []
    },
    {
      "cell_type": "code",
      "source": [
        "generate_passphrase(10)"
      ],
      "metadata": {
        "colab": {
          "base_uri": "https://localhost:8080/",
          "height": 38
        },
        "id": "coOuvjBOMow8",
        "outputId": "4b6d05d4-d46b-458f-b369-38740ccb73f5"
      },
      "execution_count": 22,
      "outputs": [
        {
          "output_type": "execute_result",
          "data": {
            "text/plain": [
              "'wordy triton trw sum shim lx nepal posse meat layup'"
            ],
            "application/vnd.google.colaboratory.intrinsic+json": {
              "type": "string"
            }
          },
          "metadata": {},
          "execution_count": 22
        }
      ]
    },
    {
      "cell_type": "markdown",
      "source": [
        "## Merge CSV Files"
      ],
      "metadata": {
        "id": "42pJ16ugM9ET"
      }
    },
    {
      "cell_type": "code",
      "source": [
        "import csv\n",
        "\n",
        "def merge_csv(csv_list, output_path):\n",
        "  # list with fieldnames\n",
        "  fieldnames = []\n",
        "  for file in csv_list:\n",
        "    with open(file, 'r', encoding='utf-8') as input_csv:\n",
        "      field = csv.DictReader(input_csv).fieldnames\n",
        "      fieldnames.extend(f for f in field if f not in fieldnames)\n",
        "\n",
        "  #write data based on field nanes\n",
        "  with open(output_path, 'w', encoding='utd-8', newline='') as output_csv:\n",
        "    writer = csv.DictWriter(output_csv, fieldnames=fieldnames)\n",
        "    writer.writeheader()\n",
        "    for file in csv_list:\n",
        "      with open(file, 'r', encoding='utf-8') as input_csv:\n",
        "        reader = csv.DictReader(input_csv)\n",
        "        for row in reader:\n",
        "          writer.writerow(row)"
      ],
      "metadata": {
        "id": "MS0i8g6ZMrY6"
      },
      "execution_count": 23,
      "outputs": []
    },
    {
      "cell_type": "markdown",
      "source": [
        "## Solve a Sudoku"
      ],
      "metadata": {
        "id": "i-d3c7CNemWZ"
      }
    },
    {
      "cell_type": "code",
      "source": [
        "from itertools import product\n",
        "\n",
        "def solve_sudoku(puzzle):\n",
        "  for (row, col) in product(range(0,9), repeat=2):\n",
        "    if puzzle[row][col] == 0:\n",
        "      for num in range(1,10):\n",
        "        allowed = True\n",
        "        for i in range(0,9):\n",
        "          if num in (puzzle[i][col], puzzle[row][i]):\n",
        "            allowed = False\n",
        "            break\n",
        "        for (i, j) in product(range(0,3), repeat =2):\n",
        "          if puzzle[row - row % 3 + i][col - col % 3 + j] == num:\n",
        "            allowed = False\n",
        "            break\n",
        "        if allowed:\n",
        "          puzzle[row][col] = num\n",
        "          if trial := solve_sudoku(puzzle):\n",
        "            return trial\n",
        "          puzzle[row][col] = 0\n",
        "  return puzzle\n",
        ""
      ],
      "metadata": {
        "id": "n1dFyyRdd7u2"
      },
      "execution_count": 3,
      "outputs": []
    },
    {
      "cell_type": "code",
      "source": [
        "solve_sudoku()"
      ],
      "metadata": {
        "colab": {
          "base_uri": "https://localhost:8080/",
          "height": 154
        },
        "id": "TzkiCS7Gasjz",
        "outputId": "57e438ad-6cfc-48f1-f544-6056d59fe150"
      },
      "execution_count": 4,
      "outputs": [
        {
          "output_type": "error",
          "ename": "TypeError",
          "evalue": "solve_sudoku() missing 1 required positional argument: 'puzzle'",
          "traceback": [
            "\u001b[0;31m---------------------------------------------------------------------------\u001b[0m",
            "\u001b[0;31mTypeError\u001b[0m                                 Traceback (most recent call last)",
            "\u001b[0;32m/tmp/ipython-input-571646492.py\u001b[0m in \u001b[0;36m<cell line: 0>\u001b[0;34m()\u001b[0m\n\u001b[0;32m----> 1\u001b[0;31m \u001b[0msolve_sudoku\u001b[0m\u001b[0;34m(\u001b[0m\u001b[0;34m)\u001b[0m\u001b[0;34m\u001b[0m\u001b[0;34m\u001b[0m\u001b[0m\n\u001b[0m",
            "\u001b[0;31mTypeError\u001b[0m: solve_sudoku() missing 1 required positional argument: 'puzzle'"
          ]
        }
      ]
    },
    {
      "cell_type": "markdown",
      "source": [
        "## Build a zip archive"
      ],
      "metadata": {
        "id": "PatTepwIdsbe"
      }
    },
    {
      "cell_type": "code",
      "source": [
        "import os\n",
        "import zipfile\n",
        "\n",
        "def build_zip_archive(input_dir, file_extensions, output_path):\n",
        "    \"\"\"\n",
        "    Create a zip archive with files from a directory.\n",
        "\n",
        "    Args:\n",
        "        input_dir: Path to the input directory\n",
        "        file_extensions: List of file extensions (e.g., ['.txt', '.pdf'])\n",
        "        output_path: Path for the output zip file\n",
        "    \"\"\"\n",
        "    # Create a new zip file\n",
        "    with zipfile.ZipFile(output_path, 'w', zipfile.ZIP_DEFLATED) as zipf:\n",
        "        # Walk through the directory\n",
        "        for root, dirs, files in os.walk(input_dir):\n",
        "            for file in files:\n",
        "                # Check if file has the right extension\n",
        "                if any(file.endswith(ext) for ext in file_extensions):\n",
        "                    # Get full file path\n",
        "                    file_path = os.path.join(root, file)\n",
        "                    # Add file to zip\n",
        "                    zipf.write(file_path, os.path.relpath(file_path, input_dir))\n",
        "\n",
        "    print(f\"Zip file created: {output_path}\")\n",
        "\n",
        "# Example usage:\n",
        "build_zip_archive(\n",
        "    input_dir='./my_folder',\n",
        "    file_extensions=['.txt', '.pdf'],\n",
        "    output_path='./output.zip'\n",
        ")\n"
      ],
      "metadata": {
        "colab": {
          "base_uri": "https://localhost:8080/"
        },
        "id": "olXMSdJmc8Zq",
        "outputId": "7e99cd67-f269-44bb-da3c-0795fb654143"
      },
      "execution_count": 5,
      "outputs": [
        {
          "output_type": "stream",
          "name": "stdout",
          "text": [
            "Zip file created: ./output.zip\n"
          ]
        }
      ]
    },
    {
      "cell_type": "code",
      "source": [
        "build_zip_archive(\n",
        "    input_dir='./content/Screenshot 2025-10-16 2.20.07 PM',\n",
        "    file_extensions=['.png'],\n",
        "    output_path='./foto.zip'\n",
        ")"
      ],
      "metadata": {
        "colab": {
          "base_uri": "https://localhost:8080/"
        },
        "id": "rmsCKucXjMjL",
        "outputId": "f25d0bdc-3df1-484e-f5d8-a78a77c9df9f"
      },
      "execution_count": 7,
      "outputs": [
        {
          "output_type": "stream",
          "name": "stdout",
          "text": [
            "Zip file created: ./foto.zip\n"
          ]
        }
      ]
    },
    {
      "cell_type": "code",
      "source": [
        "import os\n",
        "from zipfile import ZipFile\n",
        "\n",
        "def zip_all(search_dir, extension_list, output_path):\n",
        "  with ZipFile(output_path, 'w') as output_zip:\n",
        "    for root, _, files in os.walk(search_dir):\n",
        "      rel_path = os.path.relpath(root, search_dir)\n",
        "      for file in files:\n",
        "        _, ext = os.path.splitext(file)\n",
        "        if ext.lower() in extension_list:\n",
        "          output_zip.write(os.path.join(root, file),\n",
        "                           arcname = os.path.join(rel_path, file))"
      ],
      "metadata": {
        "id": "g1-1ApNzkj5Y"
      },
      "execution_count": 9,
      "outputs": []
    },
    {
      "cell_type": "code",
      "source": [
        "zip_all('/content/', ['.jpg','.txt','png'],'/content/imazip.zip')"
      ],
      "metadata": {
        "id": "_jrzAv5jyKXg"
      },
      "execution_count": 11,
      "outputs": []
    },
    {
      "cell_type": "markdown",
      "source": [
        "## Download Sequential Files"
      ],
      "metadata": {
        "id": "Hx8WlX8K3EyF"
      }
    },
    {
      "cell_type": "code",
      "source": [
        "import os\n",
        "import re\n",
        "import urllib.parse\n",
        "import urllib.request\n",
        "\n",
        "def download_files(first_url, output_dir):\n",
        "  if not os.path.isdir(output_dir):\n",
        "    os.mkdir(output_dir)\n",
        "  url_head, url_tail = os.path.split(first_url)\n",
        "  first_index = re.findall(r'[0-9]+', url_tail)[-1]\n",
        "  index_count, error_count = 0, 0\n",
        "  while error_count < 5:\n",
        "    next_index = str(int(first_index) + index_count)\n",
        "    if first_index[0] == '0':\n",
        "      next_index = '0' * (len(first_index) - len(next_index)) + next_index\n",
        "    next_url = urllib.parse.urljoin(url_head, re.sub(first_index, next_index, url_tail))\n",
        "    try:\n",
        "      output_file = os.path.join(output_dir, os.path.basename(next_url))\n",
        "      urllib.request.urlretrieve(next_url, output_file)\n",
        "    except IOError:\n",
        "      print(f'Error downloading {next_url}')\n",
        "      error_count += 1\n",
        "    index_count += 1"
      ],
      "metadata": {
        "id": "gxSy9WPk2wRy"
      },
      "execution_count": 12,
      "outputs": []
    },
    {
      "cell_type": "code",
      "source": [
        "download_files('https://699340.youcanlearnit.net/image001.jpg','/content/Test_descarga')"
      ],
      "metadata": {
        "colab": {
          "base_uri": "https://localhost:8080/"
        },
        "id": "-XBxGaL06FuR",
        "outputId": "b31f54eb-c50a-426b-b72b-b1462ec84e89"
      },
      "execution_count": 13,
      "outputs": [
        {
          "output_type": "stream",
          "name": "stdout",
          "text": [
            "Error downloading https://699340.youcanlearnit.net/image051.jpg\n",
            "Error downloading https://699340.youcanlearnit.net/image052.jpg\n",
            "Error downloading https://699340.youcanlearnit.net/image053.jpg\n",
            "Error downloading https://699340.youcanlearnit.net/image054.jpg\n",
            "Error downloading https://699340.youcanlearnit.net/image055.jpg\n"
          ]
        }
      ]
    },
    {
      "cell_type": "code",
      "source": [],
      "metadata": {
        "id": "H34WLM366h8D"
      },
      "execution_count": null,
      "outputs": []
    }
  ]
}